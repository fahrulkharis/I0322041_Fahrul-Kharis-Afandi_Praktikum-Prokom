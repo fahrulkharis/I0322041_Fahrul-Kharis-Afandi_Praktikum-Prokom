{
 "cells": [
  {
   "attachments": {},
   "cell_type": "markdown",
   "metadata": {},
   "source": [
    "1. Diberikan List sebagai berikut!"
   ]
  },
  {
   "cell_type": "code",
   "execution_count": null,
   "metadata": {},
   "outputs": [],
   "source": [
    "list1 = ['a','b','c']\n",
    "list1 = ['c','d','e']"
   ]
  },
  {
   "attachments": {},
   "cell_type": "markdown",
   "metadata": {},
   "source": [
    "Buatlah program pengulangan untuk menampilkan elemen dalam kedua list tersebut yang sama! (Contoh Output \"Nilai yang sama adalah 'C'\")"
   ]
  },
  {
   "cell_type": "code",
   "execution_count": 2,
   "metadata": {},
   "outputs": [
    {
     "name": "stdout",
     "output_type": "stream",
     "text": [
      "Nilai yang sama adalah C\n"
     ]
    }
   ],
   "source": [
    "# Kerjakan nomor 1 di sini\n",
    "list1 = ['a', 'b', 'c']\n",
    "list2 = ['c','d', 'e']\n",
    "\n",
    "for elemen in list1:\n",
    "    if elemen in list2:\n",
    "        print(f\"Nilai yang sama adalah {elemen.upper()}\")"
   ]
  },
  {
   "attachments": {},
   "cell_type": "markdown",
   "metadata": {},
   "source": [
    "2. Buatlah sebuah list yang berisi daftar mata kuliah di Teknik Industri UNS (minimal 10 matkul). Kemudian buat program pencarian menggunakan pengulangan. Apabila nama matkul yang user inputkan sudah sesuai dengan isi list maka program akan berhenti dan menampilkan output \"Mata Kuliah (matkul yang diinput user) adalah mata kuliah di Teknik Industri UNS\"."
   ]
  },
  {
   "cell_type": "code",
   "execution_count": 4,
   "metadata": {},
   "outputs": [
    {
     "name": "stdout",
     "output_type": "stream",
     "text": [
      "Mata Kuliah Biologi adalah mata kuliah di Teknik Industri UNS\n"
     ]
    }
   ],
   "source": [
    "# Kerjakan nomor 2 di sini\n",
    "Matkul_TI = ['Progama Komputer', 'Analisis dan Estimasi Biaya', 'Kalkulus', 'Fisika Dasar', 'Biologi', 'Material Teknik', 'Psikologi Industri', 'Mekanika Teknik', 'Pengantar Rekayasa dan Desain', 'Mekanika Teknik']\n",
    "Matkul = input(\"Masukkan nama mata kuliah: \")\n",
    "for i in Matkul_TI:\n",
    "    if Matkul == i:\n",
    "        print(f\"Mata Kuliah {Matkul} adalah mata kuliah di Teknik Industri UNS\")\n",
    "        break\n",
    "else:\n",
    "        print(f\"Mata Kuliah {Matkul} bukan mata kuliah di Teknik Industri UNS, silahkan coba lagi!\")"
   ]
  },
  {
   "attachments": {},
   "cell_type": "markdown",
   "metadata": {},
   "source": [
    "3. Buatlah program untuk menampilkan faktorial dari suatu bilangan dimana bilangan tersebut didapat melalui input user!"
   ]
  },
  {
   "cell_type": "code",
   "execution_count": 5,
   "metadata": {},
   "outputs": [
    {
     "name": "stdout",
     "output_type": "stream",
     "text": [
      "Nilai faktorial dari 10 adalah 3628800\n"
     ]
    }
   ],
   "source": [
    "# Kerjakan nomor 3 di sini\n",
    "Bilangan = int(input(\"Masukkan bilangan: \"))\n",
    "faktorial = 1\n",
    "\n",
    "# Menghitung faktorial\n",
    "for i in range(1, Bilangan+1):\n",
    "    faktorial *= i\n",
    "\n",
    "print(f\"Nilai faktorial dari {Bilangan} adalah {faktorial}\")"
   ]
  }
 ],
 "metadata": {
  "kernelspec": {
   "display_name": "Python 3.10.8 64-bit",
   "language": "python",
   "name": "python3"
  },
  "language_info": {
   "codemirror_mode": {
    "name": "ipython",
    "version": 3
   },
   "file_extension": ".py",
   "mimetype": "text/x-python",
   "name": "python",
   "nbconvert_exporter": "python",
   "pygments_lexer": "ipython3",
   "version": "3.10.8"
  },
  "orig_nbformat": 4,
  "vscode": {
   "interpreter": {
    "hash": "afb734500600fd355917ca529030176ea0ca205570884b88f2f6f7d791fd3fbe"
   }
  }
 },
 "nbformat": 4,
 "nbformat_minor": 2
}
